{
    "cells": [
        {
            "cell_type": "code",
            "execution_count": 1,
            "metadata": {},
            "outputs": [
                {
                    "name": "stdout",
                    "output_type": "stream",
                    "text": "--2021-04-16 08:15:15--  https://s3-api.us-geo.objectstorage.softlayer.net/cf-courses-data/CognitiveClass/ML0101ENv3/labs/loan_train.csv\nResolving s3-api.us-geo.objectstorage.softlayer.net (s3-api.us-geo.objectstorage.softlayer.net)... 67.228.254.196\nConnecting to s3-api.us-geo.objectstorage.softlayer.net (s3-api.us-geo.objectstorage.softlayer.net)|67.228.254.196|:443... connected.\nHTTP request sent, awaiting response... 200 OK\nLength: 23101 (23K) [text/csv]\nSaving to: \u2018loan_train.csv\u2019\n\nloan_train.csv      100%[===================>]  22.56K  --.-KB/s    in 0.09s   \n\n2021-04-16 08:15:16 (249 KB/s) - \u2018loan_train.csv\u2019 saved [23101/23101]\n\n"
                }
            ],
            "source": "#!pip install scikit-learn==0.23.1\n\n# Import necessary libraries\nimport numpy as np\nimport matplotlib.pyplot as plt\nimport pandas as pd\nimport numpy as np\nfrom sklearn import preprocessing\nfrom sklearn.model_selection import train_test_split\n%matplotlib inline\nfrom sklearn import metrics\nfrom sklearn.metrics import jaccard_score\nfrom sklearn.metrics import log_loss\nfrom sklearn.metrics import f1_score\n\n# download dataset\n# dataset: historical dataset from previous loan applications\n\n!wget -O loan_train.csv https://s3-api.us-geo.objectstorage.softlayer.net/cf-courses-data/CognitiveClass/ML0101ENv3/labs/loan_train.csv"
        },
        {
            "cell_type": "code",
            "execution_count": 2,
            "metadata": {},
            "outputs": [
                {
                    "data": {
                        "text/html": "<div>\n<style scoped>\n    .dataframe tbody tr th:only-of-type {\n        vertical-align: middle;\n    }\n\n    .dataframe tbody tr th {\n        vertical-align: top;\n    }\n\n    .dataframe thead th {\n        text-align: right;\n    }\n</style>\n<table border=\"1\" class=\"dataframe\">\n  <thead>\n    <tr style=\"text-align: right;\">\n      <th></th>\n      <th>Unnamed: 0</th>\n      <th>Unnamed: 0.1</th>\n      <th>loan_status</th>\n      <th>Principal</th>\n      <th>terms</th>\n      <th>effective_date</th>\n      <th>due_date</th>\n      <th>age</th>\n      <th>education</th>\n      <th>Gender</th>\n    </tr>\n  </thead>\n  <tbody>\n    <tr>\n      <th>0</th>\n      <td>0</td>\n      <td>0</td>\n      <td>PAIDOFF</td>\n      <td>1000</td>\n      <td>30</td>\n      <td>9/8/2016</td>\n      <td>10/7/2016</td>\n      <td>45</td>\n      <td>High School or Below</td>\n      <td>male</td>\n    </tr>\n    <tr>\n      <th>1</th>\n      <td>2</td>\n      <td>2</td>\n      <td>PAIDOFF</td>\n      <td>1000</td>\n      <td>30</td>\n      <td>9/8/2016</td>\n      <td>10/7/2016</td>\n      <td>33</td>\n      <td>Bechalor</td>\n      <td>female</td>\n    </tr>\n    <tr>\n      <th>2</th>\n      <td>3</td>\n      <td>3</td>\n      <td>PAIDOFF</td>\n      <td>1000</td>\n      <td>15</td>\n      <td>9/8/2016</td>\n      <td>9/22/2016</td>\n      <td>27</td>\n      <td>college</td>\n      <td>male</td>\n    </tr>\n    <tr>\n      <th>3</th>\n      <td>4</td>\n      <td>4</td>\n      <td>PAIDOFF</td>\n      <td>1000</td>\n      <td>30</td>\n      <td>9/9/2016</td>\n      <td>10/8/2016</td>\n      <td>28</td>\n      <td>college</td>\n      <td>female</td>\n    </tr>\n    <tr>\n      <th>4</th>\n      <td>6</td>\n      <td>6</td>\n      <td>PAIDOFF</td>\n      <td>1000</td>\n      <td>30</td>\n      <td>9/9/2016</td>\n      <td>10/8/2016</td>\n      <td>29</td>\n      <td>college</td>\n      <td>male</td>\n    </tr>\n  </tbody>\n</table>\n</div>",
                        "text/plain": "   Unnamed: 0  Unnamed: 0.1 loan_status  Principal  terms effective_date  \\\n0           0             0     PAIDOFF       1000     30       9/8/2016   \n1           2             2     PAIDOFF       1000     30       9/8/2016   \n2           3             3     PAIDOFF       1000     15       9/8/2016   \n3           4             4     PAIDOFF       1000     30       9/9/2016   \n4           6             6     PAIDOFF       1000     30       9/9/2016   \n\n    due_date  age             education  Gender  \n0  10/7/2016   45  High School or Below    male  \n1  10/7/2016   33              Bechalor  female  \n2  9/22/2016   27               college    male  \n3  10/8/2016   28               college  female  \n4  10/8/2016   29               college    male  "
                    },
                    "execution_count": 2,
                    "metadata": {},
                    "output_type": "execute_result"
                }
            ],
            "source": "df = pd.read_csv('loan_train.csv')\ndf.head()"
        },
        {
            "cell_type": "code",
            "execution_count": 3,
            "metadata": {},
            "outputs": [],
            "source": "# convert pandas data frame to numpy array\n\ndf['Gender'].replace(to_replace=['male','female'], value=[0,1],inplace=True)\n\nFeature = df[['Principal','terms','age','Gender']]\nFeature = pd.concat([Feature,pd.get_dummies(df['education'])], axis=1)\nFeature.drop(['Master or Above'], axis = 1,inplace=True)\n\nX = Feature \n# labels\ny = df['loan_status'].values\n# normalize data\nX= preprocessing.StandardScaler().fit(X).transform(X)"
        },
        {
            "cell_type": "code",
            "execution_count": 4,
            "metadata": {},
            "outputs": [],
            "source": "# train test split \nX_train, X_test, y_train, y_test = train_test_split( X, y, test_size=0.2, random_state=4)"
        },
        {
            "cell_type": "markdown",
            "metadata": {
                "collapsed": true
            },
            "source": "### Building model using KNN, finding the best k and accuracy evaluation"
        },
        {
            "cell_type": "code",
            "execution_count": 5,
            "metadata": {},
            "outputs": [
                {
                    "name": "stdout",
                    "output_type": "stream",
                    "text": "Using K-Nearest-Neighbors, maximum accuracy was achieved for k =  12 , and accuracy score  0.8 .\n"
                }
            ],
            "source": "from sklearn.neighbors import KNeighborsClassifier\n\naccur = []\nfor k in range(1,100):\n    neighbours = KNeighborsClassifier(n_neighbors=k)\n    neighbours.fit(X_train,y_train)\n    y_k = neighbours.predict(X_test)\n    accur.append(metrics.accuracy_score(y_k,y_test))\n    \nmax_k = accur.index(max(accur))\nknn = KNeighborsClassifier(n_neighbors=max_k).fit(X_train,y_train)\ny_pred_KNN = knn.predict(X_test)\ny_KNN_prob = knn.predict_proba(X_test)\n\nprint(\"Using K-Nearest-Neighbors, maximum accuracy was achieved for k = \",max_k, \", and accuracy score \",max(accur) ,\".\")"
        },
        {
            "cell_type": "code",
            "execution_count": 6,
            "metadata": {},
            "outputs": [
                {
                    "name": "stdout",
                    "output_type": "stream",
                    "text": "The Jaccard score is :  0.7391304347826086 . \nThe F1-score is :  0.8500000000000001 . \nThe Log-Loss is :  0.576418964684553 . \n"
                }
            ],
            "source": "# Jaccard score\nprint(\"The Jaccard score is : \",jaccard_score(y_test,y_pred_KNN,pos_label = \"PAIDOFF\"), \". \")\n\n#F1-score\nprint(\"The F1-score is : \",f1_score(y_test, y_pred_KNN, pos_label = 'PAIDOFF', labels =['COLLECTION','PAIDOFF']), \". \")\n\n# LogLoss: measures the performance of a classifier\nprint(\"The Log-Loss is : \",log_loss(y_test, y_KNN_prob, labels =['COLLECTION','PAIDOFF']), \". \")"
        },
        {
            "cell_type": "markdown",
            "metadata": {},
            "source": "### Building model using Decision Tree and find the accuracy evaluation"
        },
        {
            "cell_type": "code",
            "execution_count": 7,
            "metadata": {},
            "outputs": [],
            "source": "from sklearn.tree import DecisionTreeClassifier"
        },
        {
            "cell_type": "code",
            "execution_count": 8,
            "metadata": {},
            "outputs": [
                {
                    "name": "stdout",
                    "output_type": "stream",
                    "text": "Using DecisionTree, an accuracy of 0.7857142857142857  was achieved.\n"
                }
            ],
            "source": "loanTree = DecisionTreeClassifier(criterion = \"entropy\", max_depth = 4)\nloanTree.fit(X_train,y_train)\ny_pred_DT = loanTree.predict(X_test)\ny_DT_prob = loanTree.predict_proba(X_test)\nprint(\"Using DecisionTree, an accuracy of\", metrics.accuracy_score(y_test, y_pred_DT), \" was achieved.\")"
        },
        {
            "cell_type": "code",
            "execution_count": 9,
            "metadata": {},
            "outputs": [
                {
                    "name": "stdout",
                    "output_type": "stream",
                    "text": "The Jaccard score is :  0.7857142857142857 . \nThe F1-score is :  0.88 . \nThe Log-Loss is :  0.9357519410468473 . \n"
                }
            ],
            "source": "# Jaccard score\nprint(\"The Jaccard score is : \",jaccard_score(y_test,y_pred_DT,pos_label = \"PAIDOFF\"), \". \")\n\n#F1-score\nprint(\"The F1-score is : \",f1_score(y_test, y_pred_DT, pos_label = 'PAIDOFF', labels =['COLLECTION','PAIDOFF']), \". \")\n\n# LogLoss: measures the performance of a classifier\nprint(\"The Log-Loss is : \",log_loss(y_test, y_DT_prob, labels =['COLLECTION','PAIDOFF']), \". \")"
        },
        {
            "cell_type": "markdown",
            "metadata": {},
            "source": "### Building model using SVM and find the accuracy evaluation "
        },
        {
            "cell_type": "code",
            "execution_count": 10,
            "metadata": {},
            "outputs": [],
            "source": "from sklearn import svm"
        },
        {
            "cell_type": "code",
            "execution_count": 11,
            "metadata": {},
            "outputs": [],
            "source": "# kernel functions: 1. 'linear', 2. 'poly', 3. 'rbf', 4. 'sigmoid'\nkernel_f = ['linear', 'poly', 'rbf','sigmoid']"
        },
        {
            "cell_type": "code",
            "execution_count": 12,
            "metadata": {},
            "outputs": [
                {
                    "name": "stdout",
                    "output_type": "stream",
                    "text": "Using Support Vecor Machines, an accuracy of 0.7857142857142857  was achieved.\n"
                }
            ],
            "source": "acc = []\nfor f in kernel_f:\n    clf = svm.SVC(kernel = f, probability = True)\n    clf.fit(X_train,y_train)\n    y_pred = clf.predict(X_test)\n    accur = jaccard_score(y_test,y_pred, pos_label = \"PAIDOFF\")\n    acc.append(accur)\nprint(\"Using Support Vecor Machines, an accuracy of\", max(acc), \" was achieved.\")\n\nf = kernel_f[acc.index(max(acc))]\nsvm_model = svm.SVC(kernel = f, probability = True).fit(X_train,y_train)\ny_pred_SVM = svm_model.predict(X_test)\ny_SVM_prob = svm_model.predict_proba(X_test)"
        },
        {
            "cell_type": "code",
            "execution_count": 13,
            "metadata": {},
            "outputs": [
                {
                    "name": "stdout",
                    "output_type": "stream",
                    "text": "The Jaccard score is :  0.7857142857142857 . \nThe F1-score is :  0.88 . \nThe Log-Loss is :  0.5218223060917082 . \n"
                }
            ],
            "source": "# Jaccard score\nprint(\"The Jaccard score is : \",jaccard_score(y_test,y_pred_SVM,pos_label = \"PAIDOFF\"), \". \")\n\n#F1-score\nprint(\"The F1-score is : \",f1_score(y_test, y_pred_SVM, pos_label = 'PAIDOFF', labels =['COLLECTION','PAIDOFF']), \". \")\n\n# LogLoss: measures the performance of a classifier\nprint(\"The Log-Loss is : \",log_loss(y_test, y_SVM_prob, labels =['COLLECTION','PAIDOFF']), \". \")"
        },
        {
            "cell_type": "markdown",
            "metadata": {},
            "source": "### Building model using Logistic Regression and find the accuracy evaluation "
        },
        {
            "cell_type": "code",
            "execution_count": 14,
            "metadata": {},
            "outputs": [],
            "source": "from sklearn.linear_model import LogisticRegression"
        },
        {
            "cell_type": "code",
            "execution_count": 15,
            "metadata": {},
            "outputs": [
                {
                    "name": "stdout",
                    "output_type": "stream",
                    "text": "Using Logistic Regression, an accuracy of 0.7857142857142857  was achieved.\nThe Jaccard score is :  0.7857142857142857 . \nThe F1-score is :  0.88 . \nThe Log-Loss is :  0.600866678869581 . \n"
                }
            ],
            "source": "LR = LogisticRegression(C=0.01,solver='liblinear')\nLR.fit(X_train,y_train)\ny_pred_LR = LR.predict(X_test)\n\ny_LR_prob = LR.predict_proba(X_test)\n\nprint(\"Using Logistic Regression, an accuracy of\", metrics.accuracy_score(y_test, y_pred_LR), \" was achieved.\")\n\n# Jaccard\nprint(\"The Jaccard score is : \",jaccard_score(y_test,y_pred_LR,pos_label = \"PAIDOFF\"), \". \")\n\n#f1 score\nprint(\"The F1-score is : \",f1_score(y_test, y_pred_LR, pos_label = 'PAIDOFF', labels =['COLLECTION','PAIDOFF']), \". \")\n\n# LogLoss: measures the performance of a classifier\nprint(\"The Log-Loss is : \",log_loss(y_test, y_LR_prob, labels =['COLLECTION','PAIDOFF']), \". \")"
        },
        {
            "cell_type": "code",
            "execution_count": 16,
            "metadata": {},
            "outputs": [],
            "source": "# Thank you for reading this far :)"
        },
        {
            "cell_type": "code",
            "execution_count": null,
            "metadata": {},
            "outputs": [],
            "source": ""
        },
        {
            "cell_type": "code",
            "execution_count": null,
            "metadata": {},
            "outputs": [],
            "source": ""
        },
        {
            "cell_type": "code",
            "execution_count": null,
            "metadata": {},
            "outputs": [],
            "source": ""
        }
    ],
    "metadata": {
        "kernelspec": {
            "display_name": "Python 3.7",
            "language": "python",
            "name": "python3"
        },
        "language_info": {
            "codemirror_mode": {
                "name": "ipython",
                "version": 3
            },
            "file_extension": ".py",
            "mimetype": "text/x-python",
            "name": "python",
            "nbconvert_exporter": "python",
            "pygments_lexer": "ipython3",
            "version": "3.7.10"
        }
    },
    "nbformat": 4,
    "nbformat_minor": 1
}